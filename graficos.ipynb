{
 "cells": [
  {
   "cell_type": "code",
   "execution_count": null,
   "metadata": {
    "id": "aqjfActjJwCB"
   },
   "outputs": [],
   "source": [
    "import pandas as pd\n",
    "import matplotlib.pyplot as plt\n",
    "import seaborn as sns"
   ]
  },
  {
   "cell_type": "code",
   "execution_count": null,
   "metadata": {
    "id": "aO_yMrGyJwCF"
   },
   "outputs": [],
   "source": [
    "file_path = r'C:\\Users\\dellg\\Documents\\Codigos\\0_Bases_Originais\\Magazine.csv'"
   ]
  },
  {
   "cell_type": "code",
   "execution_count": 16,
   "metadata": {
    "id": "tJfnBYqMJwCG",
    "outputId": "f2db38fe-70f4-441f-b5e2-450348267a4e"
   },
   "outputs": [],
   "source": [
    "produtosprecos = pd.read_csv(file_path)"
   ]
  },
  {
   "cell_type": "code",
   "execution_count": 17,
   "metadata": {
    "id": "Y69AWACtJwCH",
    "outputId": "60244304-9a3f-4129-dc9c-a04fb14ecc56"
   },
   "outputs": [],
   "source": [
    "produtosprecos = produtosprecos.drop(columns=['Unnamed: 0']).reset_index(drop=True)"
   ]
  },
  {
   "cell_type": "code",
   "execution_count": null,
   "metadata": {
    "id": "djjh5qT_JwCI"
   },
   "outputs": [],
   "source": [
    "produtosprecos['Preços'] = produtosprecos['Preços'].str.replace(r'[^\\d,]', '', regex=True)\n",
    "produtosprecos['Preços'] = produtosprecos['Preços'].str.replace(',', '.').astype(float)"
   ]
  },
  {
   "cell_type": "code",
   "execution_count": null,
   "metadata": {
    "id": "PbD-eUNhJwCI",
    "outputId": "51f5c95e-a5a8-416a-a68b-42e70377e9f0"
   },
   "outputs": [],
   "source": [
    "top_5_mais_caros = produtosprecos.nlargest(5, 'Preços')\n",
    "top_5_mais_baratos = produtosprecos.nsmallest(5, 'Preços')\n",
    "media_preco = produtosprecos['Preços'].mean()"
   ]
  },
  {
   "cell_type": "code",
   "execution_count": null,
   "metadata": {
    "id": "3gVyinOPJwCJ",
    "outputId": "5bd61158-0399-4ece-ee72-a6c578617dd7"
   },
   "outputs": [],
   "source": [
    "produtos_ordenados = produtosprecos.sort_values(by='Preços', ascending=False)"
   ]
  },
  {
   "cell_type": "code",
   "execution_count": null,
   "metadata": {
    "id": "SaseNI4MJwCK",
    "outputId": "4378fe7a-f1c4-47c3-bce0-1b132b6e2ac6"
   },
   "outputs": [],
   "source": [
    "produtos_acima_4k = produtosprecos[produtosprecos['Preços'] > 4000]\n",
    "produtos_entre_1k_3k = produtosprecos[(produtosprecos['Preços'] >= 1000) & (produtosprecos['Preços'] <= 3000)]\n",
    "produtos_ate_1k = produtosprecos[produtosprecos['Preços'] < 1000]"
   ]
  },
  {
   "cell_type": "code",
   "execution_count": null,
   "metadata": {
    "id": "dCI50NpkJwCK",
    "outputId": "e47a024a-e73e-47eb-c9e6-c431e0048948"
   },
   "outputs": [],
   "source": [
    "sns.set(style=\"whitegrid\")"
   ]
  },
  {
   "cell_type": "code",
   "execution_count": null,
   "metadata": {
    "id": "bMECYDfgJwCL"
   },
   "outputs": [],
   "source": [
    "plt.figure(figsize=(10, 6))\n",
    "sns.barplot(x=\"Preços\", y=\"Produtos\", data=produtos_acima_4k, palette=\"viridis\")\n",
    "plt.title(\"Celulares com Preço Acima de R$ 4.000\")\n",
    "plt.xlabel(\"Preço (R$)\")\n",
    "plt.ylabel(\"Produto\")\n",
    "plt.show()"
   ]
  },
  {
   "cell_type": "code",
   "execution_count": null,
   "metadata": {
    "id": "hiqyZyewJwCL",
    "outputId": "3617216a-3653-49ab-e3e5-de36b51107e4"
   },
   "outputs": [],
   "source": [
    "plt.figure(figsize=(10, 6))\n",
    "sns.barplot(x=\"Preços\", y=\"Produtos\", data=produtos_entre_1k_3k, palette=\"plasma\")\n",
    "plt.title(\"Celulares com Preço Entre R$ 1.000 e R$ 3.000\")\n",
    "plt.xlabel(\"Preço (R$)\")\n",
    "plt.ylabel(\"Produto\")\n",
    "plt.show()\n"
   ]
  },
  {
   "cell_type": "code",
   "execution_count": null,
   "metadata": {
    "id": "AHlNbsihJwCL",
    "outputId": "94303062-660b-4f83-df2d-d5d9e79ae2dd"
   },
   "outputs": [],
   "source": [
    "plt.figure(figsize=(10, 6))\n",
    "sns.barplot(x=\"Preços\", y=\"Produtos\", data=produtos_ate_1k, palette=\"magma\")\n",
    "plt.title(\"Celulares com Preço Até R$ 1.000\")\n",
    "plt.xlabel(\"Preço (R$)\")\n",
    "plt.ylabel(\"Produto\")\n",
    "plt.show()"
   ]
  }
 ],
 "metadata": {
  "colab": {
   "provenance": []
  },
  "kernelspec": {
   "display_name": "Python 3",
   "language": "python",
   "name": "python3"
  },
  "language_info": {
   "codemirror_mode": {
    "name": "ipython",
    "version": 3
   },
   "file_extension": ".py",
   "mimetype": "text/x-python",
   "name": "python",
   "nbconvert_exporter": "python",
   "pygments_lexer": "ipython3",
   "version": "3.11.9"
  },
  "orig_nbformat": 4
 },
 "nbformat": 4,
 "nbformat_minor": 0
}
