{
 "cells": [
  {
   "cell_type": "code",
   "execution_count": 8,
   "metadata": {
    "executionInfo": {
     "elapsed": 2412,
     "status": "ok",
     "timestamp": 1696372656437,
     "user": {
      "displayName": "Bruno Souza da Silva",
      "userId": "02401638620678841505"
     },
     "user_tz": 180
    },
    "id": "biaDBzGNp8fK"
   },
   "outputs": [
    {
     "ename": "ModuleNotFoundError",
     "evalue": "No module named 'unidecode'",
     "output_type": "error",
     "traceback": [
      "\u001b[1;31m---------------------------------------------------------------------------\u001b[0m",
      "\u001b[1;31mModuleNotFoundError\u001b[0m                       Traceback (most recent call last)",
      "Cell \u001b[1;32mIn[8], line 6\u001b[0m\n\u001b[0;32m      4\u001b[0m \u001b[38;5;28;01mimport\u001b[39;00m \u001b[38;5;21;01mmissingno\u001b[39;00m \u001b[38;5;28;01mas\u001b[39;00m \u001b[38;5;21;01mmsno\u001b[39;00m\n\u001b[0;32m      5\u001b[0m \u001b[38;5;28;01mimport\u001b[39;00m \u001b[38;5;21;01mplotly\u001b[39;00m\u001b[38;5;21;01m.\u001b[39;00m\u001b[38;5;21;01mexpress\u001b[39;00m \u001b[38;5;28;01mas\u001b[39;00m \u001b[38;5;21;01mpx\u001b[39;00m\n\u001b[1;32m----> 6\u001b[0m \u001b[38;5;28;01mimport\u001b[39;00m \u001b[38;5;21;01munidecode\u001b[39;00m\n",
      "\u001b[1;31mModuleNotFoundError\u001b[0m: No module named 'unidecode'"
     ]
    }
   ],
   "source": [
    "#baixar bibliotecas no terminal\n",
    "import pandas as pd \n",
    "import numpy as np\n",
    "import missingno as msno\n",
    "import plotly.express as px\n",
    "import unidecode"
   ]
  },
  {
   "cell_type": "code",
   "execution_count": 9,
   "metadata": {
    "executionInfo": {
     "elapsed": 446,
     "status": "ok",
     "timestamp": 1696373489184,
     "user": {
      "displayName": "Bruno Souza da Silva",
      "userId": "02401638620678841505"
     },
     "user_tz": 180
    },
    "id": "9IPEiu43p8fX"
   },
   "outputs": [],
   "source": [
    "#trocar a area onde fica a base original\n",
    "file_path = r'C:\\Users\\dellg\\OneDrive\\Documentos\\Trabalhos\\Codigos\\0_Bases_Originais\\Magazine.csv'\n",
    "produtosprecos = pd.read_csv(file_path)"
   ]
  },
  {
   "cell_type": "code",
   "execution_count": 10,
   "metadata": {},
   "outputs": [],
   "source": [
    "produtosprecos = produtosprecos.drop(columns=['Unnamed: 0']).reset_index(drop=True)"
   ]
  },
  {
   "cell_type": "code",
   "execution_count": 11,
   "metadata": {},
   "outputs": [],
   "source": [
    "produtosprecos['Preços'] = produtosprecos['Preços'].str.replace(r'[^\\d,]', '', regex=True)\n",
    "produtosprecos['Preços'] = produtosprecos['Preços'].str.replace(',', '.').astype(float)"
   ]
  },
  {
   "cell_type": "code",
   "execution_count": null,
   "metadata": {},
   "outputs": [],
   "source": [
    "top_5_mais_caros = produtosprecos.nlargest(5, 'Preços')"
   ]
  },
  {
   "cell_type": "code",
   "execution_count": null,
   "metadata": {},
   "outputs": [],
   "source": [
    "top_5_mais_baratos = produtosprecos.nsmallest(5, 'Preços')"
   ]
  },
  {
   "cell_type": "code",
   "execution_count": null,
   "metadata": {},
   "outputs": [],
   "source": [
    "media_preco = produtosprecos['Preços'].mean()"
   ]
  },
  {
   "cell_type": "code",
   "execution_count": null,
   "metadata": {},
   "outputs": [],
   "source": [
    "produtos_ordenados = produtosprecos.sort_values(by='Preços', ascending=False)"
   ]
  },
  {
   "cell_type": "code",
   "execution_count": null,
   "metadata": {},
   "outputs": [
    {
     "name": "stdout",
     "output_type": "stream",
     "text": [
      "Top 5 produtos com maior preço:\n",
      "                                             Produtos  Preços\n",
      "40          Smartphone Samsung Galaxy S23 Ultra 256GB  5668.2\n",
      "29  Smartphone Samsung Galaxy S23 Ultra 256GB Pret...  5579.1\n",
      "17     Apple iPhone 14 128GB Estelar 6,1” 12MP iOS 5G  4229.1\n",
      "24  Apple iPhone 14 128GB Meia-noite 6,1” 12MP - i...  4229.1\n",
      "5        Smartphone Samsung Galaxy S23 256GB Preto 5G  3688.2\n"
     ]
    }
   ],
   "source": [
    "print(\"Top 5 produtos com maior preço:\")\n",
    "print(top_5_mais_caros)"
   ]
  },
  {
   "cell_type": "code",
   "execution_count": null,
   "metadata": {},
   "outputs": [
    {
     "name": "stdout",
     "output_type": "stream",
     "text": [
      "\n",
      "Top 5 produtos com menor preço:\n",
      "                                             Produtos  Preços\n",
      "23  Celular Simples Lenoxx CX904_PV 2G Dual Chip 3...   88.11\n",
      "49  Telefone Celular LG Antigo 2g Simples Para Ido...  125.50\n",
      "41          Smartphone TCL L5 16GB Preto 4G Quad-Core  359.99\n",
      "34  Smartphone Positivo S650 Twist 5 Max 128GB Chu...  449.10\n",
      "13  Smartphone Motorola Moto G04s 128GB Tela 6,6 C...  593.39\n"
     ]
    }
   ],
   "source": [
    "print(\"\\nTop 5 produtos com menor preço:\")\n",
    "print(top_5_mais_baratos)"
   ]
  },
  {
   "cell_type": "code",
   "execution_count": null,
   "metadata": {},
   "outputs": [
    {
     "name": "stdout",
     "output_type": "stream",
     "text": [
      "\n",
      "Média dos preços dos produtos:\n",
      "R$ 1711.00\n"
     ]
    }
   ],
   "source": [
    "print(\"\\nMédia dos preços dos produtos:\")\n",
    "print(f\"R$ {media_preco:.2f}\")\n"
   ]
  },
  {
   "cell_type": "code",
   "execution_count": null,
   "metadata": {},
   "outputs": [
    {
     "name": "stdout",
     "output_type": "stream",
     "text": [
      "\n",
      "Listagem de todos os produtos em ordem decrescente de preço:\n",
      "                                             Produtos   Preços\n",
      "40          Smartphone Samsung Galaxy S23 Ultra 256GB  5668.20\n",
      "29  Smartphone Samsung Galaxy S23 Ultra 256GB Pret...  5579.10\n",
      "24  Apple iPhone 14 128GB Meia-noite 6,1” 12MP - i...  4229.10\n",
      "17     Apple iPhone 14 128GB Estelar 6,1” 12MP iOS 5G  4229.10\n",
      "5        Smartphone Samsung Galaxy S23 256GB Preto 5G  3688.20\n",
      "8        Apple iPhone 13 128GB Estelar Tela 6,1” 12MP  3599.10\n",
      "9   Smartphone Samsung Galaxy S23 256GB Preto 5G 8...  3599.10\n",
      "19        Samsung Galaxy S23 FE 5G 128GB + Smartwatch  3238.20\n",
      "39             Samsung Galaxy S23 FE 5G Android 128GB  3238.20\n",
      "31  Smartphone Motorola Edge 50 Pro 5G - 256GB 24G...  2879.10\n",
      "30  Smartphone Motorola Edge 50 Pro 5G - 256GB 24G...  2879.10\n",
      "20  Samsung Galaxy S23 FE 5G Smartphone Android 128GB  2878.20\n",
      "7   Samsung Galaxy S23 FE 5G Smartphone Android 12...  2727.12\n",
      "15      iPhone 12 Apple 64GB Preto Tela 6,1” 12MP iOS  2699.10\n",
      "21  Smartphone Motorola Edge 50 Fusion 256GB Blue ...  2219.00\n",
      "22  Smartphone Motorola Edge 50 Fusion 256GB Pink ...  2219.00\n",
      "12  Smartphone Samsung Galaxy A55 256GB Azul Escur...  2098.80\n",
      "25  Celular Samsung Galaxy A55 5G, Câmera Tripla a...  1898.10\n",
      "53       Usado: iPhone 11 128GB Preto Bom - Trocafone  1758.65\n",
      "16  Smartphone Samsung Galaxy M55 256GB 5G 8GB RAM...  1709.10\n",
      "51  Smartphone Samsung Galaxy A55 128GB 5G 8GB 6,6...  1689.38\n",
      "47  Smartphone Samsung Galaxy A15 5G 256GB 8GB RAM...  1614.15\n",
      "18  Smartphone Samsung Galaxy A25 6,5\" 256GB Azul ...  1529.10\n",
      "10  Smartphone Motorola Moto G84 256GB Azul 5G Sna...  1529.10\n",
      "11  Smartphone Samsung Galaxy A35 128GB Rosa 5G 6G...  1459.80\n",
      "45  Smartphone Xiaomi Redmi Note 13 8GB+256GB ( Pr...  1343.19\n",
      "55  Smartphone Xiaomi Redmi 13C BR, 8GB RAM, 256GB...  1299.99\n",
      "52  Smartphone Motorola Moto G84 5G 256GB 16GB RAM...  1289.45\n",
      "46           Xiaomi Redmi Note 13 256GB 8GB Ram Preto  1287.08\n",
      "32  Smartphone Motorola Moto G84 256GB Grafite 5G ...  1264.63\n",
      "14  Smartphone Motorola Moto G54 256GB Azul 5G 8GB...  1259.10\n",
      "48      Smartphone Celular Xiaomi Redmi 13c 8gb 256gb  1223.51\n",
      "0   Smartphone Samsung Galaxy A15 6,5\" 256GB Azul ...  1169.10\n",
      "1   Smartphone Samsung Galaxy A15 6,5\" 256GB Azul ...  1098.97\n",
      "56  Smartphone Samsung Galaxy A15 4G 128GB 4GB RAM...  1070.23\n",
      "54  Smartphone Samsung Galaxy A15 5G Octa-core 4Gb...   899.90\n",
      "4   Smartphone Motorola Moto G34 128GB Azul 5G 4GB...   872.10\n",
      "50  Smartphone Motorola Moto G34 128GB 5G Tela 6,5...   826.88\n",
      "42  Smartphone Samsung Galaxy A06 128GB 4GB RAM Ve...   809.10\n",
      "38  Smartphone Infinix Smart 8 Pro 256GB Preto 4GB...   791.10\n",
      "26  Smartphone Motorola Moto g24 Power - 128GB 8GB...   764.10\n",
      "28  Smartphone Motorola Moto g24 Power - 128GB 8GB...   764.10\n",
      "2   Smartphone Motorola Moto G24 128GB Grafite 4GB...   749.00\n",
      "44  Smartphone Infinix Hot 30i 128GB Preto 4G Medi...   719.10\n",
      "6   Smartphone Samsung Galaxy A05s 6,7\" 128GB Pret...   719.10\n",
      "3   Smartphone Motorola Moto G04s 128GB Grafite 4G...   719.10\n",
      "36  Smartphone Samsung Galaxy A05s 6,7\" 128GB 6GB ...   719.00\n",
      "43  Smartphone Motorola Moto G24 128gb 4gb 6,6'' H...   699.00\n",
      "35  Smartphone Motorola Moto G24 4G 128GB 4GB RAM ...   699.00\n",
      "33  Smartphone Motorola Moto g04s - 128GB 8 GB Ram...   674.10\n",
      "37  Smartphone Motorola Moto g04s - 128GB 8 GB Ram...   674.10\n",
      "27  Smartphone Motorola Moto G24 128GB 4G Tela 6,6...   651.78\n",
      "13  Smartphone Motorola Moto G04s 128GB Tela 6,6 C...   593.39\n",
      "34  Smartphone Positivo S650 Twist 5 Max 128GB Chu...   449.10\n",
      "41          Smartphone TCL L5 16GB Preto 4G Quad-Core   359.99\n",
      "49  Telefone Celular LG Antigo 2g Simples Para Ido...   125.50\n",
      "23  Celular Simples Lenoxx CX904_PV 2G Dual Chip 3...    88.11\n"
     ]
    }
   ],
   "source": [
    "print(\"\\nListagem de todos os produtos em ordem decrescente de preço:\")\n",
    "print(produtos_ordenados)"
   ]
  },
  {
   "cell_type": "code",
   "execution_count": 12,
   "metadata": {},
   "outputs": [],
   "source": [
    "produtosprecos.to_csv('../1_Bases_Tratadas/MagazineTratada.csv')"
   ]
  }
 ],
 "metadata": {
  "colab": {
   "collapsed_sections": [
    "GDhnxDzHp8gT"
   ],
   "provenance": []
  },
  "kernelspec": {
   "display_name": "Python 3",
   "language": "python",
   "name": "python3"
  },
  "language_info": {
   "codemirror_mode": {
    "name": "ipython",
    "version": 3
   },
   "file_extension": ".py",
   "mimetype": "text/x-python",
   "name": "python",
   "nbconvert_exporter": "python",
   "pygments_lexer": "ipython3",
   "version": "3.11.9"
  },
  "orig_nbformat": 4
 },
 "nbformat": 4,
 "nbformat_minor": 0
}
